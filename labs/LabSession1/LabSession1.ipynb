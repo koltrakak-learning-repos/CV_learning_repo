{
 "cells": [
  {
   "attachments": {},
   "cell_type": "markdown",
   "metadata": {},
   "source": [
    "# Python from Scratch\n",
    "## Computer Vision and Image Processing - Lab Session 1\n",
    "### Prof: Luigi Di Stefano, luigi.distefano@unibo.it\n",
    "### Tutor: Alex Costanzino, alex.costanzino@unibo.it - Iacopo Curti, iacopo.curti2@unibo.it"
   ]
  },
  {
   "attachments": {},
   "cell_type": "markdown",
   "metadata": {},
   "source": [
    "##  1. Introduction"
   ]
  },
  {
   "attachments": {},
   "cell_type": "markdown",
   "metadata": {},
   "source": [
    "Python is a programming language very widespread in the scientific community. \n",
    "\n",
    "Python is an **interpreted**, **high-level**, **object-based** language. \n",
    "\n",
    "* **Interpreted**: python code is not compiled ahead of time into machine instructions. Instead, an interpreter reads the source code and executes it line by line (or more precisely, it compiles into bytecode that is then executed by the Python Virtual Machine). This makes development faster and more flexible but can be slower than compiled languages (such as C);\n",
    "\n",
    "* **High-level**: python abstracts away low-level hardware details such as memory management, registers, or manual allocation. Instead, it provides human-friendly constructs like dynamic typing, automatic garbage collection, and built-in data structures;\n",
    "\n",
    "* **Object-based**: python is structured around objects. Variables, functions, and even modules are objects."
   ]
  },
  {
   "cell_type": "markdown",
   "metadata": {},
   "source": [
    "Python uses **whitespace indentation** to delimit blocks: an increase in indentation comes after certain statements, while a decrease in indentation signifies the end of the current block (example below)."
   ]
  },
  {
   "cell_type": "code",
   "execution_count": 2,
   "metadata": {},
   "outputs": [
    {
     "name": "stdout",
     "output_type": "stream",
     "text": [
      "a equals to 2\n"
     ]
    }
   ],
   "source": [
    "a = 2\n",
    "if a >= 2:\n",
    "    if a == 2:\n",
    "         print(\"a equals to 2\")\n",
    "    else:\n",
    "         print(\"a greater than 2\")\n",
    "else:\n",
    "    print(\"a lower than 2\")"
   ]
  },
  {
   "attachments": {},
   "cell_type": "markdown",
   "metadata": {},
   "source": [
    "You can check your Python version at the command line by running `python --version`."
   ]
  },
  {
   "attachments": {},
   "cell_type": "markdown",
   "metadata": {},
   "source": [
    "In this lab session, we will cover:\n",
    "\n",
    "* Basic Python: basic data types, functions and classes;\n",
    "* Numpy: Arrays, indexing, math and broadcasting;\n",
    "* Matplotlib: basic plotting functions."
   ]
  },
  {
   "attachments": {},
   "cell_type": "markdown",
   "metadata": {},
   "source": [
    "## 2. Basic data types"
   ]
  },
  {
   "attachments": {},
   "cell_type": "markdown",
   "metadata": {},
   "source": [
    "Python is a **dynamically typed language**: we are not forced to explicit the type of each variable, the compiler is smart enough to understand the type by itself."
   ]
  },
  {
   "attachments": {},
   "cell_type": "markdown",
   "metadata": {},
   "source": [
    "### Numbers and Mathematical operation"
   ]
  },
  {
   "attachments": {},
   "cell_type": "markdown",
   "metadata": {},
   "source": [
    "Below we show how to perform basic mathematical operations."
   ]
  },
  {
   "cell_type": "code",
   "execution_count": 3,
   "metadata": {},
   "outputs": [
    {
     "name": "stdout",
     "output_type": "stream",
     "text": [
      "x = 3 <class 'int'>\n"
     ]
    }
   ],
   "source": [
    "x = 3\n",
    "print(\"x =\", x, type(x))"
   ]
  },
  {
   "cell_type": "code",
   "execution_count": 28,
   "metadata": {
    "scrolled": true
   },
   "outputs": [
    {
     "name": "stdout",
     "output_type": "stream",
     "text": [
      "Addition: x + 1 = [1.  1.1 1.2 1.3 1.4 1.5 1.6 1.7 1.8 1.9 2.  2.1 2.2 2.3 2.4 2.5 2.6 2.7\n",
      " 2.8 2.9 3.  3.1 3.2 3.3 3.4 3.5 3.6 3.7 3.8 3.9 4.  4.1 4.2 4.3 4.4 4.5\n",
      " 4.6 4.7 4.8 4.9 5.  5.1 5.2 5.3 5.4 5.5 5.6 5.7 5.8 5.9 6.  6.1 6.2 6.3\n",
      " 6.4 6.5 6.6 6.7 6.8 6.9 7.  7.1 7.2]\n"
     ]
    }
   ],
   "source": [
    "sum = x + 1\n",
    "print(\"Addition: x + 1 =\", sum)"
   ]
  },
  {
   "cell_type": "code",
   "execution_count": 5,
   "metadata": {
    "collapsed": true,
    "jupyter": {
     "outputs_hidden": true
    }
   },
   "outputs": [
    {
     "name": "stdout",
     "output_type": "stream",
     "text": [
      "Subtraction: x - 1 = 2\n"
     ]
    }
   ],
   "source": [
    "diff = x - 1\n",
    "print(\"Subtraction: x - 1 =\", diff)"
   ]
  },
  {
   "cell_type": "code",
   "execution_count": 6,
   "metadata": {},
   "outputs": [
    {
     "name": "stdout",
     "output_type": "stream",
     "text": [
      "Multiplication: x * 2 = 6\n"
     ]
    }
   ],
   "source": [
    "mul = x * 2\n",
    "print(\"Multiplication: x * 2 =\", mul)"
   ]
  },
  {
   "cell_type": "code",
   "execution_count": 7,
   "metadata": {},
   "outputs": [
    {
     "name": "stdout",
     "output_type": "stream",
     "text": [
      "Exponentiation: x ** 2 = 9\n"
     ]
    }
   ],
   "source": [
    "exp = x**2\n",
    "print(\"Exponentiation: x ** 2 =\", exp)"
   ]
  },
  {
   "cell_type": "markdown",
   "metadata": {},
   "source": [
    "Python supports augmented assignments:"
   ]
  },
  {
   "cell_type": "code",
   "execution_count": 8,
   "metadata": {},
   "outputs": [
    {
     "name": "stdout",
     "output_type": "stream",
     "text": [
      "x += 1 -> x =  4\n",
      "x *= 2 -> x =  8\n"
     ]
    }
   ],
   "source": [
    "x += 1\n",
    "print(\"x += 1 -> x = \", x)\n",
    "x *= 2\n",
    "print(\"x *= 2 -> x = \", x)"
   ]
  },
  {
   "cell_type": "markdown",
   "metadata": {},
   "source": [
    "Python automatically cast (**implicit casting**) to float during an operation between int and float variables:"
   ]
  },
  {
   "cell_type": "code",
   "execution_count": 9,
   "metadata": {},
   "outputs": [
    {
     "name": "stdout",
     "output_type": "stream",
     "text": [
      "x = 3 <class 'int'>\n",
      "y = 2.0 <class 'float'>\n"
     ]
    }
   ],
   "source": [
    "x = 3  # int\n",
    "y = 2. # float\n",
    "print(\"x =\", x, type(x)) \n",
    "print(\"y =\", y, type(y)) "
   ]
  },
  {
   "cell_type": "code",
   "execution_count": 10,
   "metadata": {},
   "outputs": [
    {
     "name": "stdout",
     "output_type": "stream",
     "text": [
      "Multiplication: x * y = 6 <class 'float'>\n",
      "Division x / y = 1.5 <class 'float'>\n"
     ]
    }
   ],
   "source": [
    "mul_2 = x * y\n",
    "print(\"Multiplication: x * y =\", mul, type(mul_2))\n",
    "\n",
    "# Division int float\n",
    "div = x / y\n",
    "print(\"Division x / y =\", div, type(div))"
   ]
  },
  {
   "cell_type": "code",
   "execution_count": 11,
   "metadata": {},
   "outputs": [
    {
     "name": "stdout",
     "output_type": "stream",
     "text": [
      "Module x % y= 1.0 <class 'float'>\n"
     ]
    }
   ],
   "source": [
    "mod = x % y\n",
    "print(\"Module x % y=\", mod, type(mod))"
   ]
  },
  {
   "cell_type": "code",
   "execution_count": 12,
   "metadata": {},
   "outputs": [
    {
     "name": "stdout",
     "output_type": "stream",
     "text": [
      "Floored division x // y =  1.0 <class 'float'>\n"
     ]
    }
   ],
   "source": [
    "floor_div = x // y\n",
    "print(\"Floored division x // y = \", floor_div, type(floor_div))"
   ]
  },
  {
   "cell_type": "markdown",
   "metadata": {},
   "source": [
    "Advanced mathematical operation are available library math library:"
   ]
  },
  {
   "cell_type": "code",
   "execution_count": 13,
   "metadata": {},
   "outputs": [
    {
     "name": "stdout",
     "output_type": "stream",
     "text": [
      "Square root of 3 : 1.7320508075688772\n"
     ]
    }
   ],
   "source": [
    "import math\n",
    "\n",
    "root = math.sqrt(x)\n",
    "print(\"Square root of\" , x , \":\", root)"
   ]
  },
  {
   "attachments": {},
   "cell_type": "markdown",
   "metadata": {},
   "source": [
    "### Explicit casting\n",
    "Sometimes we need to change from a type to another. To do so, we can explicitly cast the type."
   ]
  },
  {
   "cell_type": "code",
   "execution_count": 14,
   "metadata": {},
   "outputs": [
    {
     "name": "stdout",
     "output_type": "stream",
     "text": [
      "Division:  1.5 <class 'float'>\n",
      "1 <class 'int'>\n",
      "1.0 <class 'float'>\n"
     ]
    }
   ],
   "source": [
    "x = 3  # int\n",
    "y = 2. # float\n",
    "\n",
    "div = x / y\n",
    "print(\"Division: \", div, type(div))\n",
    "\n",
    "# Casting division from float to int -> losing precision.\n",
    "d = int(x / y)\n",
    "print(d, type(d))\n",
    "\n",
    "# Casting division from float to int and to float again -> losing precision.\n",
    "d = float(int(x / y))\n",
    "print(d, type(d))"
   ]
  },
  {
   "attachments": {},
   "cell_type": "markdown",
   "metadata": {},
   "source": [
    "### Booleans"
   ]
  },
  {
   "attachments": {},
   "cell_type": "markdown",
   "metadata": {},
   "source": [
    "Python also supports boolean operations:"
   ]
  },
  {
   "cell_type": "code",
   "execution_count": 29,
   "metadata": {},
   "outputs": [
    {
     "name": "stdout",
     "output_type": "stream",
     "text": [
      "T, F: True False <class 'bool'>\n"
     ]
    }
   ],
   "source": [
    "t, f = True, False\n",
    "print(\"T, F:\", t, f, type(t))"
   ]
  },
  {
   "cell_type": "code",
   "execution_count": 30,
   "metadata": {},
   "outputs": [
    {
     "name": "stdout",
     "output_type": "stream",
     "text": [
      "Logical T AND F: False\n"
     ]
    }
   ],
   "source": [
    "print(\"Logical T AND F:\", t and f)"
   ]
  },
  {
   "cell_type": "code",
   "execution_count": 31,
   "metadata": {},
   "outputs": [
    {
     "name": "stdout",
     "output_type": "stream",
     "text": [
      "Logical T OR F: True\n"
     ]
    }
   ],
   "source": [
    "print(\"Logical T OR F:\", t or f)"
   ]
  },
  {
   "cell_type": "code",
   "execution_count": 32,
   "metadata": {},
   "outputs": [
    {
     "name": "stdout",
     "output_type": "stream",
     "text": [
      "Logical NOT T: False\n"
     ]
    }
   ],
   "source": [
    "print(\"Logical NOT T:\", not t)"
   ]
  },
  {
   "cell_type": "code",
   "execution_count": 33,
   "metadata": {},
   "outputs": [
    {
     "name": "stdout",
     "output_type": "stream",
     "text": [
      "Logical T XOR F: True\n"
     ]
    }
   ],
   "source": [
    "print(\"Logical T XOR F:\", t != f)"
   ]
  },
  {
   "attachments": {},
   "cell_type": "markdown",
   "metadata": {},
   "source": [
    "### Strings"
   ]
  },
  {
   "attachments": {},
   "cell_type": "markdown",
   "metadata": {},
   "source": [
    "We will introduce some basic knowledge about Strings and `print()` function in Python.\n",
    "\n",
    "String literals can either use single quotes or double quotes."
   ]
  },
  {
   "cell_type": "code",
   "execution_count": 34,
   "metadata": {},
   "outputs": [
    {
     "name": "stdout",
     "output_type": "stream",
     "text": [
      "hello 5\n"
     ]
    }
   ],
   "source": [
    "hello = 'hello'\n",
    "world = \"world\"\n",
    "\n",
    "# Print string and lenght of string.\n",
    "print(hello, len(hello)) "
   ]
  },
  {
   "cell_type": "code",
   "execution_count": 35,
   "metadata": {},
   "outputs": [
    {
     "name": "stdout",
     "output_type": "stream",
     "text": [
      "hello world 2019\n",
      "hello world 2019\n"
     ]
    }
   ],
   "source": [
    "# String concatenation.\n",
    "x = 2019\n",
    "hw = hello + ' ' + world + ' ' + str(x)\n",
    "print(hw)\n",
    "print(hello, \"world\", x)"
   ]
  },
  {
   "attachments": {},
   "cell_type": "markdown",
   "metadata": {},
   "source": [
    "Several useful methods for handling strings are implemented:"
   ]
  },
  {
   "cell_type": "code",
   "execution_count": 36,
   "metadata": {},
   "outputs": [
    {
     "name": "stdout",
     "output_type": "stream",
     "text": [
      "  HELLO WORLD\n"
     ]
    }
   ],
   "source": [
    "s = \"  hello world\"\n",
    "print(s.upper())"
   ]
  },
  {
   "cell_type": "code",
   "execution_count": 37,
   "metadata": {},
   "outputs": [
    {
     "name": "stdout",
     "output_type": "stream",
     "text": [
      "  hellllllllo worlllld\n"
     ]
    }
   ],
   "source": [
    "print(s.replace('l','llll'))"
   ]
  },
  {
   "cell_type": "code",
   "execution_count": 38,
   "metadata": {},
   "outputs": [
    {
     "name": "stdout",
     "output_type": "stream",
     "text": [
      "hello world\n"
     ]
    }
   ],
   "source": [
    "print(s.strip())"
   ]
  },
  {
   "cell_type": "code",
   "execution_count": 39,
   "metadata": {},
   "outputs": [
    {
     "name": "stdout",
     "output_type": "stream",
     "text": [
      "Hello world\n"
     ]
    }
   ],
   "source": [
    "print(s.strip().capitalize())"
   ]
  },
  {
   "attachments": {},
   "cell_type": "markdown",
   "metadata": {},
   "source": [
    "Lot of times we need to format a string to improve the readability.\n",
    "\n",
    "We can format our string using the `format()` method of strings."
   ]
  },
  {
   "cell_type": "code",
   "execution_count": 40,
   "metadata": {},
   "outputs": [
    {
     "name": "stdout",
     "output_type": "stream",
     "text": [
      "Hello World\n"
     ]
    }
   ],
   "source": [
    "s = \"World\"\n",
    "print(f\"Hello {s}\") # Insert string variable."
   ]
  },
  {
   "cell_type": "code",
   "execution_count": 41,
   "metadata": {},
   "outputs": [
    {
     "name": "stdout",
     "output_type": "stream",
     "text": [
      "1.2345678\n",
      "4 decimal digits 1.2346\n"
     ]
    }
   ],
   "source": [
    "n = 1.2345678\n",
    "print(n)\n",
    "print(\"4 decimal digits {:.4f}\".format(n)) # Adjusting the number of digits to show."
   ]
  },
  {
   "attachments": {},
   "cell_type": "markdown",
   "metadata": {},
   "source": [
    "You can find a list of all string methods in the [documentation](https://docs.python.org/3.5/library/stdtypes.html#string-methods)."
   ]
  },
  {
   "attachments": {},
   "cell_type": "markdown",
   "metadata": {},
   "source": [
    "## 3. Containers"
   ]
  },
  {
   "attachments": {},
   "cell_type": "markdown",
   "metadata": {},
   "source": [
    "### Lists\n",
    "Lists in python can contain elements of different types. Several built-in methods are provided by python to manage lists. \n",
    "\n",
    "Below we will show some of them."
   ]
  },
  {
   "cell_type": "code",
   "execution_count": 42,
   "metadata": {},
   "outputs": [
    {
     "name": "stdout",
     "output_type": "stream",
     "text": [
      "[0, 1, 2, 'hi'] 2 hi\n"
     ]
    }
   ],
   "source": [
    "# Creating a list, python lists can contain elements of different types.\n",
    "lst = [0, 1, 2, \"hi\"]\n",
    "\n",
    "# Negative indices count from the end of the list, example: lst[-1].\n",
    "print(lst, lst[2], lst[-1])"
   ]
  },
  {
   "cell_type": "code",
   "execution_count": 43,
   "metadata": {},
   "outputs": [
    {
     "name": "stdout",
     "output_type": "stream",
     "text": [
      "[2, 'hi']\n"
     ]
    }
   ],
   "source": [
    "# Slicing.\n",
    "list_slice = lst[2:4] # Access a slice from the list. First index included, last index excluded.\n",
    "print(list_slice)"
   ]
  },
  {
   "cell_type": "code",
   "execution_count": 44,
   "metadata": {},
   "outputs": [
    {
     "name": "stdout",
     "output_type": "stream",
     "text": [
      "[0, 1, 2, 'hi', 'bar']\n"
     ]
    }
   ],
   "source": [
    "# Appending a new element to the list.\n",
    "lst.append('bar')\n",
    "print(lst)"
   ]
  },
  {
   "cell_type": "code",
   "execution_count": 45,
   "metadata": {},
   "outputs": [
    {
     "name": "stdout",
     "output_type": "stream",
     "text": [
      "bar [0, 1, 2, 'hi']\n"
     ]
    }
   ],
   "source": [
    "# Removing and returning the last element of the list.\n",
    "l = lst.pop() \n",
    "print(l, lst)"
   ]
  },
  {
   "attachments": {},
   "cell_type": "markdown",
   "metadata": {},
   "source": [
    "### Dictionaries"
   ]
  },
  {
   "attachments": {},
   "cell_type": "markdown",
   "metadata": {},
   "source": [
    "Dictionaries contain couples of `(key, value)`. The key-set contains unique objects.\n",
    "\n",
    "Below some basic function of dictionaries in Python."
   ]
  },
  {
   "cell_type": "code",
   "execution_count": 46,
   "metadata": {},
   "outputs": [
    {
     "name": "stdout",
     "output_type": "stream",
     "text": [
      "Hello\n",
      "Minnie\n"
     ]
    }
   ],
   "source": [
    "# Creating a dictionary, python dictionary can contain element of different types.\n",
    "d = {1 : \"Hello\", \"Mickey Mouse\" : \"Minnie\", \"Donald Duck\": \"Daisy\"}\n",
    "\n",
    "# Accessing dictionary by key\n",
    "print(d[1])\n",
    "print(d[\"Mickey Mouse\"])"
   ]
  },
  {
   "cell_type": "code",
   "execution_count": 47,
   "metadata": {},
   "outputs": [
    {
     "name": "stdout",
     "output_type": "stream",
     "text": [
      "True\n"
     ]
    }
   ],
   "source": [
    "# Checking the existence of a key\n",
    "print(\"Mickey Mouse\" in d)"
   ]
  },
  {
   "cell_type": "code",
   "execution_count": 48,
   "metadata": {},
   "outputs": [
    {
     "name": "stdout",
     "output_type": "stream",
     "text": [
      "{1: 'Hello', 'Mickey Mouse': 'Minnie', 'Donald Duck': 'Daisy', 'Goofy': 'Pluto'}\n"
     ]
    }
   ],
   "source": [
    "# Adding an element to a dictionary\n",
    "d[\"Goofy\"] = \"Pluto\"\n",
    "print(d)"
   ]
  },
  {
   "attachments": {},
   "cell_type": "markdown",
   "metadata": {},
   "source": [
    "### Set\n",
    "A set is a list of unique objects. Python will ignore duplicate items.\n",
    "\n",
    "Below some basic function of set in Python."
   ]
  },
  {
   "cell_type": "code",
   "execution_count": 49,
   "metadata": {},
   "outputs": [
    {
     "name": "stdout",
     "output_type": "stream",
     "text": [
      "{'cat', 'bird', 'dog'}\n"
     ]
    }
   ],
   "source": [
    "# Creating a set.\n",
    "st = {'cat', 'dog'}\n",
    "\n",
    "# Adding a element to a set.\n",
    "st.add('bird')\n",
    "print(st)"
   ]
  },
  {
   "cell_type": "code",
   "execution_count": 50,
   "metadata": {},
   "outputs": [
    {
     "name": "stdout",
     "output_type": "stream",
     "text": [
      "{'cat', 'bird', 'dog'}\n"
     ]
    }
   ],
   "source": [
    "# Ignore adding duplicate items.\n",
    "st.add('bird') \n",
    "print(st)"
   ]
  },
  {
   "cell_type": "code",
   "execution_count": 51,
   "metadata": {},
   "outputs": [
    {
     "name": "stdout",
     "output_type": "stream",
     "text": [
      "{'fish', 'dog'}\n"
     ]
    }
   ],
   "source": [
    "# Converting a list to a set.\n",
    "lst = ['dog', 'dog', 'dog', 'fish']\n",
    "\n",
    "# Casting list to set will delete duplicate items.\n",
    "st = set(lst) \n",
    "print(st)"
   ]
  },
  {
   "attachments": {},
   "cell_type": "markdown",
   "metadata": {},
   "source": [
    "### Tuples\n",
    "A tuple is an **immutable** ordered list of values."
   ]
  },
  {
   "cell_type": "code",
   "execution_count": 52,
   "metadata": {},
   "outputs": [
    {
     "name": "stdout",
     "output_type": "stream",
     "text": [
      "(5, 4)\n"
     ]
    }
   ],
   "source": [
    "# Creating a tuple.\n",
    "t = (5, 4)\n",
    "print(t)"
   ]
  },
  {
   "cell_type": "code",
   "execution_count": 53,
   "metadata": {},
   "outputs": [
    {
     "ename": "TypeError",
     "evalue": "'tuple' object does not support item assignment",
     "output_type": "error",
     "traceback": [
      "\u001b[31m---------------------------------------------------------------------------\u001b[39m",
      "\u001b[31mTypeError\u001b[39m                                 Traceback (most recent call last)",
      "\u001b[36mCell\u001b[39m\u001b[36m \u001b[39m\u001b[32mIn[53]\u001b[39m\u001b[32m, line 2\u001b[39m\n\u001b[32m      1\u001b[39m \u001b[38;5;66;03m# Cannot change the value, exception arises\u001b[39;00m\n\u001b[32m----> \u001b[39m\u001b[32m2\u001b[39m \u001b[43mt\u001b[49m\u001b[43m[\u001b[49m\u001b[32;43m1\u001b[39;49m\u001b[43m]\u001b[49m=\u001b[32m2\u001b[39m \n",
      "\u001b[31mTypeError\u001b[39m: 'tuple' object does not support item assignment"
     ]
    }
   ],
   "source": [
    "# Cannot change the value, exception arises\n",
    "t[1]=2 "
   ]
  },
  {
   "attachments": {},
   "cell_type": "markdown",
   "metadata": {},
   "source": [
    "## 4. Statements"
   ]
  },
  {
   "attachments": {},
   "cell_type": "markdown",
   "metadata": {},
   "source": [
    "### _If_ Statement\n",
    "\n",
    "```python\n",
    "if condition:\n",
    "    _some_commands_\n",
    "elif condition:\n",
    "    _some_commands_\n",
    "else:\n",
    "    _some_commands_\n",
    "```"
   ]
  },
  {
   "cell_type": "code",
   "execution_count": null,
   "metadata": {},
   "outputs": [],
   "source": [
    "a = \"ciao\"\n",
    "b = \"ciao\"\n",
    "\n",
    "if a == b:\n",
    "    print(\"The two strings are equal!\")\n",
    "else: \n",
    "    print(\"The two strings are different!\")"
   ]
  },
  {
   "cell_type": "code",
   "execution_count": null,
   "metadata": {},
   "outputs": [],
   "source": [
    "x = 1\n",
    "y = 2\n",
    "\n",
    "if x > y:\n",
    "    print(\"x greater than y\")\n",
    "elif x == y:\n",
    "    print(\"x equal to y\")\n",
    "else:\n",
    "    print(\"x smaller than y\")"
   ]
  },
  {
   "attachments": {},
   "cell_type": "markdown",
   "metadata": {},
   "source": [
    "### _For_ statement\n",
    "\n",
    "A for loop is used for iterating over a sequence (that is either a list, a tuple, a dictionary, a set, or a string).\n",
    "\n",
    "```python\n",
    "for el in sequence:\n",
    "    _some_commands_\n",
    "```  "
   ]
  },
  {
   "cell_type": "code",
   "execution_count": null,
   "metadata": {},
   "outputs": [],
   "source": [
    "subjects = ['math', 'history', 'physics']\n",
    "\n",
    "# Iterate among the elemets of a list.\n",
    "for sub in subjects:\n",
    "    if sub != 'math':\n",
    "        print(sub)"
   ]
  },
  {
   "cell_type": "code",
   "execution_count": null,
   "metadata": {},
   "outputs": [],
   "source": [
    "d = {\"Mickey Mouse\" : \"Minnie\", \"Donald Duck\": \"Daisy\"}\n",
    "# Iterate among the elemets of a dictionary.\n",
    "for ch in d: \n",
    "    print(\"Key: \", ch, \", Value: \", d[ch])"
   ]
  },
  {
   "cell_type": "code",
   "execution_count": 54,
   "metadata": {},
   "outputs": [
    {
     "name": "stdout",
     "output_type": "stream",
     "text": [
      "0\n",
      "1\n",
      "2\n",
      "3\n",
      "4\n",
      "[0, 1, 2, 3, 4]\n"
     ]
    }
   ],
   "source": [
    "lst = []\n",
    "# Iterate from 0 to 4.\n",
    "for i in range(0,5):\n",
    "    print(i)\n",
    "    lst.append(i)\n",
    "\n",
    "print(lst)"
   ]
  },
  {
   "cell_type": "code",
   "execution_count": 55,
   "metadata": {},
   "outputs": [
    {
     "name": "stdout",
     "output_type": "stream",
     "text": [
      "index: 0 element: 1\n",
      "index: 1 element: 4\n",
      "index: 2 element: 6\n"
     ]
    }
   ],
   "source": [
    "lst = [1,4,6]\n",
    "for idx, l in enumerate(lst):\n",
    "    print(\"index:\", idx, \"element:\", l )"
   ]
  },
  {
   "cell_type": "code",
   "execution_count": 56,
   "metadata": {},
   "outputs": [
    {
     "name": "stdout",
     "output_type": "stream",
     "text": [
      "Squares [1, 16, 36]\n",
      "Square of even elements  [16, 36]\n"
     ]
    }
   ],
   "source": [
    "# List Comprehension, simpler way to compute lists.\n",
    "squares = [x ** 2 for x in lst]\n",
    "squares_even = [x ** 2 for x in lst if x % 2 == 0]\n",
    "\n",
    "print(\"Squares\", squares)\n",
    "print(\"Square of even elements \", squares_even)"
   ]
  },
  {
   "attachments": {},
   "cell_type": "markdown",
   "metadata": {},
   "source": [
    "### _While_ statement\n",
    "\n",
    "With the while loop we can execute a set of statements as long as a condition is true.\n",
    "\n",
    "```python\n",
    "while condition:\n",
    "    _some_commands_\n",
    "```"
   ]
  },
  {
   "cell_type": "code",
   "execution_count": 57,
   "metadata": {},
   "outputs": [
    {
     "name": "stdout",
     "output_type": "stream",
     "text": [
      "1\n",
      "2\n",
      "3\n",
      "4\n",
      "5\n",
      "6\n"
     ]
    }
   ],
   "source": [
    "vec = [1,2,3,4,5,6]\n",
    "cnt = 0\n",
    "while cnt < len(vec):\n",
    "    print(vec[cnt])\n",
    "    cnt += 1"
   ]
  },
  {
   "attachments": {},
   "cell_type": "markdown",
   "metadata": {},
   "source": [
    "## 5. Functions"
   ]
  },
  {
   "attachments": {},
   "cell_type": "markdown",
   "metadata": {},
   "source": [
    "Python functions are defined using the `def` keyword.\n",
    "\n",
    "Information can be passed to functions as **parameter**.\n",
    "\n",
    "Parameters are specified after the function name, inside the parentheses. You can add as many parameters as you want, just separate them with a comma. We can also define default values for parameters.\n",
    "\n",
    "For example:"
   ]
  },
  {
   "cell_type": "code",
   "execution_count": 58,
   "metadata": {},
   "outputs": [
    {
     "name": "stdout",
     "output_type": "stream",
     "text": [
      "-1\n",
      "1\n"
     ]
    }
   ],
   "source": [
    "# Defining a function with two parameters (x,y) and a default parameter (absolute_value).\n",
    "def diff(x, y, absolute_value=False): # absolute_value is an optional argument with default=False\n",
    "    if absolute_value:\n",
    "        return abs(x - y)\n",
    "    else:\n",
    "        return x - y\n",
    "\n",
    "# Calling the defined function.\n",
    "d = diff(1,2)\n",
    "print(d)\n",
    "\n",
    "abs_d = diff(1, 2, absolute_value=True)\n",
    "print(abs_d)"
   ]
  },
  {
   "attachments": {},
   "cell_type": "markdown",
   "metadata": {},
   "source": [
    "### Call by Assignment\n",
    "\n",
    "Python always passes arguments to functions by copying the reference to the object, not the object itself. \n",
    "The function parameter becomes another name pointing to the same object.\n",
    "\n",
    "If the object is mutable (lists, dicts, sets, most custom classes), modifications through that reference affect the original object.\n",
    "\n",
    "If the object is immutable (ints, floats, strings, tuples), you cannot change it in place. \n",
    "Any “update” actually creates a new object, and the parameter inside the function is reassigned to that new object, leaving the caller’s object untouched."
   ]
  },
  {
   "cell_type": "code",
   "execution_count": 59,
   "metadata": {},
   "outputs": [
    {
     "name": "stdout",
     "output_type": "stream",
     "text": [
      "35 25\n"
     ]
    }
   ],
   "source": [
    "my_var = 25\n",
    "\n",
    "def my_method(v):\n",
    "    v += 10\n",
    "    return v\n",
    "\n",
    "print(my_method(my_var), my_var)"
   ]
  },
  {
   "attachments": {},
   "cell_type": "markdown",
   "metadata": {},
   "source": [
    "In Python, pretty much **everything is an object**. \n",
    "\n",
    "25 is an object. \n",
    "\n",
    "In Python both variables *my_var* and *v* points to the same object 25.\n",
    "\n",
    "However, you cannot change 25. The **int** object is immutable. \n",
    "\n",
    "When we do *v* += 10, what we are really doing is assigning to *v* a completely **different object** 35. We are not changing the original 25. This is why *my_var* stays as 25, because the object itself has not changed.\n",
    "\n",
    "In Python, some built-in types are immutable:\n",
    "- numbers (int, float, etc…)\n",
    "- booleans\n",
    "- strings\n",
    "- tuples\n",
    "\n",
    "On the other hand, mutable objects (lists, dictionaries, sets) can be directly modified. "
   ]
  },
  {
   "cell_type": "code",
   "execution_count": 60,
   "metadata": {
    "scrolled": true
   },
   "outputs": [
    {
     "name": "stdout",
     "output_type": "stream",
     "text": [
      "[12, 34, 55, 65]\n",
      "[12, 34, 55, 65]\n"
     ]
    }
   ],
   "source": [
    "my_list = [12, 34, 55]\n",
    "\n",
    "x = my_list\n",
    "x.append(65)\n",
    "\n",
    "print(my_list)\n",
    "print(x)"
   ]
  },
  {
   "attachments": {},
   "cell_type": "markdown",
   "metadata": {},
   "source": [
    "*my_list* contain 4 elements as *x* . That’s because both *x* and *my_list* point to the same object (as in the integer example). But the key difference is here we’ve changed the object, instead of creating a new one. Changing the object means that both variables see the change."
   ]
  },
  {
   "cell_type": "code",
   "execution_count": 61,
   "metadata": {},
   "outputs": [
    {
     "ename": "SyntaxError",
     "evalue": "invalid syntax (2099790411.py, line 1)",
     "output_type": "error",
     "traceback": [
      "  \u001b[36mCell\u001b[39m\u001b[36m \u001b[39m\u001b[32mIn[61]\u001b[39m\u001b[32m, line 1\u001b[39m\n\u001b[31m    \u001b[39m\u001b[31mIn conclusione:\u001b[39m\n       ^\n\u001b[31mSyntaxError\u001b[39m\u001b[31m:\u001b[39m invalid syntax\n"
     ]
    }
   ],
   "source": [
    "In conclusione:\n",
    "- per rendere esplicito il flusso di dati è opportuno definire sempre un return value\n",
    "- inoltre è opportuno limitare le funzioni che modificano oggetti mutabili in quanto producono side-effect"
   ]
  },
  {
   "attachments": {},
   "cell_type": "markdown",
   "metadata": {},
   "source": [
    "## 6. Classes"
   ]
  },
  {
   "attachments": {},
   "cell_type": "markdown",
   "metadata": {},
   "source": [
    "The syntax for defining classes in Python is straightforward:"
   ]
  },
  {
   "cell_type": "code",
   "execution_count": 62,
   "metadata": {},
   "outputs": [],
   "source": [
    "# Creating a class\n",
    "class Animal(object): \n",
    "    # Constructor\n",
    "    def __init__(self, name):\n",
    "        self.name = name "
   ]
  },
  {
   "attachments": {},
   "cell_type": "markdown",
   "metadata": {},
   "source": [
    "Python allows **inheritance** of classes. "
   ]
  },
  {
   "cell_type": "code",
   "execution_count": 63,
   "metadata": {},
   "outputs": [],
   "source": [
    "# Creating Cat class child of Animal class\n",
    "class Cat(Animal):\n",
    "    def __init__(self):\n",
    "        # Using constructor of parent class\n",
    "        super(Cat, self).__init__('cat')\n",
    "    def greet(self):\n",
    "        print(\"Hi, I am a \", self.name)"
   ]
  },
  {
   "cell_type": "code",
   "execution_count": 64,
   "metadata": {},
   "outputs": [
    {
     "name": "stdout",
     "output_type": "stream",
     "text": [
      "Hi, I am a  cat\n"
     ]
    }
   ],
   "source": [
    "# Creating instance of class Cat\n",
    "cat_instance = Cat()\n",
    "\n",
    "# Using method of class Cat\n",
    "cat_instance.greet()"
   ]
  },
  {
   "attachments": {},
   "cell_type": "markdown",
   "metadata": {},
   "source": [
    "## 7. Numpy"
   ]
  },
  {
   "attachments": {},
   "cell_type": "markdown",
   "metadata": {},
   "source": [
    "Numpy is the core library for scientific computing in Python. It provides a high-performance multidimensional array object, and tools for working with these arrays.\n",
    "To use Numpy, we first need to import the `numpy` package:"
   ]
  },
  {
   "cell_type": "code",
   "execution_count": 3,
   "metadata": {},
   "outputs": [],
   "source": [
    "import numpy as np"
   ]
  },
  {
   "attachments": {},
   "cell_type": "markdown",
   "metadata": {},
   "source": [
    "### Arrays"
   ]
  },
  {
   "attachments": {},
   "cell_type": "markdown",
   "metadata": {},
   "source": [
    "An array object represents a multidimensional, homogeneous array of items of the same data-type. Numpy array can be accessed by index into square brackets."
   ]
  },
  {
   "cell_type": "code",
   "execution_count": 4,
   "metadata": {},
   "outputs": [
    {
     "name": "stdout",
     "output_type": "stream",
     "text": [
      "<class 'numpy.ndarray'> (3,) 1 2 3\n"
     ]
    }
   ],
   "source": [
    "# Creating a rank 1 array.\n",
    "a = np.array([1, 2, 3])  \n",
    "print(type(a), a.shape, a[0], a[1], a[2])"
   ]
  },
  {
   "cell_type": "code",
   "execution_count": 5,
   "metadata": {},
   "outputs": [
    {
     "name": "stdout",
     "output_type": "stream",
     "text": [
      "[5 2 3]\n"
     ]
    }
   ],
   "source": [
    "# Changing an element of the array.\n",
    "a[0] = 5                 \n",
    "print(a) "
   ]
  },
  {
   "cell_type": "code",
   "execution_count": 6,
   "metadata": {},
   "outputs": [
    {
     "name": "stdout",
     "output_type": "stream",
     "text": [
      "[[1 2 3]\n",
      " [4 5 6]]\n"
     ]
    }
   ],
   "source": [
    "# Create a rank 2 array.\n",
    "b = np.array([[1, 2, 3], [4, 5, 6]])\n",
    "print(b)"
   ]
  },
  {
   "cell_type": "code",
   "execution_count": 7,
   "metadata": {},
   "outputs": [
    {
     "name": "stdout",
     "output_type": "stream",
     "text": [
      "(2, 3)\n"
     ]
    }
   ],
   "source": [
    "print(b.shape)"
   ]
  },
  {
   "cell_type": "code",
   "execution_count": 8,
   "metadata": {},
   "outputs": [
    {
     "name": "stdout",
     "output_type": "stream",
     "text": [
      "1 2 4\n"
     ]
    }
   ],
   "source": [
    "print(b[0, 0], b[0, 1], b[1, 0])"
   ]
  },
  {
   "attachments": {},
   "cell_type": "markdown",
   "metadata": {},
   "source": [
    "Numpy have methods to create several defaults arrays."
   ]
  },
  {
   "cell_type": "code",
   "execution_count": 9,
   "metadata": {},
   "outputs": [
    {
     "name": "stdout",
     "output_type": "stream",
     "text": [
      "Zeros array\n",
      "[[0. 0.]\n",
      " [0. 0.]]\n"
     ]
    }
   ],
   "source": [
    "# Create an array of all zeros\n",
    "print(\"Zeros array\")\n",
    "a = np.zeros((2,2))  \n",
    "# nota che a default riempe con dei float (infatti c'è il punto)\n",
    "print(a)"
   ]
  },
  {
   "cell_type": "code",
   "execution_count": 10,
   "metadata": {},
   "outputs": [
    {
     "name": "stdout",
     "output_type": "stream",
     "text": [
      "Ones array\n",
      "[[1. 1.]]\n"
     ]
    }
   ],
   "source": [
    "print(\"Ones array\")\n",
    "b = np.ones((1,2))   # Create an array of all ones\n",
    "print(b)"
   ]
  },
  {
   "cell_type": "code",
   "execution_count": 11,
   "metadata": {},
   "outputs": [
    {
     "name": "stdout",
     "output_type": "stream",
     "text": [
      "Full array\n",
      "[[7 7]\n",
      " [7 7]]\n"
     ]
    }
   ],
   "source": [
    "print(\"Full array\")\n",
    "c = np.full((2,2), 7) # Create an array of constants (7)\n",
    "# nota che qua ho riempito con degli interi; numpy ha fatto inferenza con il tipo che ho passato\n",
    "print(c)"
   ]
  },
  {
   "cell_type": "code",
   "execution_count": 12,
   "metadata": {},
   "outputs": [
    {
     "name": "stdout",
     "output_type": "stream",
     "text": [
      "Identity matrix\n",
      "[[1. 0. 0. 0. 0.]\n",
      " [0. 1. 0. 0. 0.]\n",
      " [0. 0. 1. 0. 0.]\n",
      " [0. 0. 0. 1. 0.]\n",
      " [0. 0. 0. 0. 1.]]\n"
     ]
    }
   ],
   "source": [
    "print(\"Identity matrix\")\n",
    "d = np.eye(5)        # Create a 5x5 identity matrix\n",
    "print(d)"
   ]
  },
  {
   "cell_type": "code",
   "execution_count": 13,
   "metadata": {},
   "outputs": [
    {
     "name": "stdout",
     "output_type": "stream",
     "text": [
      "Random matrix\n",
      "[[0.36809665 0.30930627]\n",
      " [0.95141026 0.50417179]]\n"
     ]
    }
   ],
   "source": [
    "print(\"Random matrix\")\n",
    "e = np.random.random((2,2)) # Create an array filled with random values\n",
    "print(e)"
   ]
  },
  {
   "attachments": {},
   "cell_type": "markdown",
   "metadata": {},
   "source": [
    "**All the items of a numpy array have the same type!**\n",
    "\n",
    "When you create an array, numpy guess which datatype fix better to your data, but you can set it when creating the numpy array. "
   ]
  },
  {
   "cell_type": "code",
   "execution_count": 14,
   "metadata": {},
   "outputs": [
    {
     "name": "stdout",
     "output_type": "stream",
     "text": [
      "[1 2]\n",
      "[1. 2.]\n",
      "[1. 2.]\n",
      "[1 2]\n"
     ]
    }
   ],
   "source": [
    "a = np.array([1, 2])                   # Let numpy choose the datatype\n",
    "b = np.array([1.0, 2.0])               # Let numpy choose the datatype\n",
    "c = np.array([1, 2], dtype=np.float32) #Force a particular datatype\n",
    "d = np.array([1, 2], dtype=np.int64)   #Force a particular datatype\n",
    "print(a)\n",
    "print(b)\n",
    "print(c)\n",
    "print(d)"
   ]
  },
  {
   "attachments": {},
   "cell_type": "markdown",
   "metadata": {},
   "source": [
    "Numpy offers several ways to index into arrays.\n",
    "Similar to lists numpy arrays can be **sliced** specifing a slice for each dimension of the array."
   ]
  },
  {
   "cell_type": "code",
   "execution_count": 15,
   "metadata": {},
   "outputs": [
    {
     "name": "stdout",
     "output_type": "stream",
     "text": [
      "[[2 3]\n",
      " [6 7]]\n"
     ]
    }
   ],
   "source": [
    "a = np.array([[1, 2, 3, 4],\n",
    "              [5, 6, 7, 8], \n",
    "              [9, 10, 11, 12]])\n",
    "\n",
    "b = a[:2, 1:3] # rows 0,1 and columns 1,2\n",
    "print(b)"
   ]
  },
  {
   "attachments": {},
   "cell_type": "markdown",
   "metadata": {},
   "source": [
    "**A slice of an array share the same memory area of the original array. Modifing it will modify also the original array**:"
   ]
  },
  {
   "cell_type": "code",
   "execution_count": 16,
   "metadata": {},
   "outputs": [
    {
     "name": "stdout",
     "output_type": "stream",
     "text": [
      "100\n"
     ]
    }
   ],
   "source": [
    "b[0, 0] = 100\n",
    "print(a[0,1])"
   ]
  },
  {
   "attachments": {},
   "cell_type": "markdown",
   "metadata": {},
   "source": [
    "Integer arrays can be used as indexes of other arrays:"
   ]
  },
  {
   "cell_type": "code",
   "execution_count": 17,
   "metadata": {},
   "outputs": [
    {
     "name": "stdout",
     "output_type": "stream",
     "text": [
      "[1 7 9]\n"
     ]
    }
   ],
   "source": [
    "# Create an array of indices.\n",
    "b = np.array([0, 2, 0])\n",
    "# Select one element from each row of a using the indices in b\n",
    "print(a[np.arange(3), b])  # a[[0,1,2], [0,2,0]] ->  Prints a[0,0] , a[1,2], a[2,0]"
   ]
  },
  {
   "attachments": {},
   "cell_type": "markdown",
   "metadata": {},
   "source": [
    "**Boolean array indexing**: Boolean array indexing lets you pick out arbitrary elements of an array. Frequently this type of indexing is used to select the elements of an array that satisfies some condition. Here is an example:"
   ]
  },
  {
   "cell_type": "code",
   "execution_count": 80,
   "metadata": {},
   "outputs": [
    {
     "name": "stdout",
     "output_type": "stream",
     "text": [
      "[[False False]\n",
      " [ True  True]\n",
      " [ True  True]]\n"
     ]
    }
   ],
   "source": [
    "a = np.array([[1,2], [3, 4], [5, 6]])\n",
    "\n",
    "idx = (a > 2)  # Find the elements of a that are bigger than 2;\n",
    "                    # this returns a numpy array of Booleans of the same\n",
    "                    # shape as a, where each slot of bool_idx tells\n",
    "                    # whether that element of a is > 2.\n",
    "print(idx)"
   ]
  },
  {
   "cell_type": "code",
   "execution_count": 81,
   "metadata": {},
   "outputs": [
    {
     "name": "stdout",
     "output_type": "stream",
     "text": [
      "[3 4 5 6]\n"
     ]
    }
   ],
   "source": [
    "print(a[idx])"
   ]
  },
  {
   "attachments": {},
   "cell_type": "markdown",
   "metadata": {},
   "source": [
    "### Array math"
   ]
  },
  {
   "attachments": {},
   "cell_type": "markdown",
   "metadata": {},
   "source": [
    "Basic mathematical functions operate elementwise on arrays, and are available both as operator overloads and as functions in the numpy module:"
   ]
  },
  {
   "cell_type": "code",
   "execution_count": 107,
   "metadata": {},
   "outputs": [
    {
     "name": "stdout",
     "output_type": "stream",
     "text": [
      "x =\n",
      " [[-1. -2.]\n",
      " [-3. -4.]]\n",
      "y =\n",
      " [[5. 6.]\n",
      " [7. 8.]]\n"
     ]
    }
   ],
   "source": [
    "x = np.array([[-1,-2],[-3,-4]], dtype=np.float64)\n",
    "y = np.array([[5,6],[7,8]], dtype=np.float64)\n",
    "\n",
    "print(\"x =\\n\", x)\n",
    "print(\"y =\\n\",y)"
   ]
  },
  {
   "cell_type": "code",
   "execution_count": 108,
   "metadata": {},
   "outputs": [
    {
     "name": "stdout",
     "output_type": "stream",
     "text": [
      "Element-wise sum\n",
      "[[4. 4.]\n",
      " [4. 4.]]\n"
     ]
    }
   ],
   "source": [
    "print(\"Element-wise sum\")\n",
    "print(x + y)"
   ]
  },
  {
   "cell_type": "code",
   "execution_count": 109,
   "metadata": {},
   "outputs": [
    {
     "name": "stdout",
     "output_type": "stream",
     "text": [
      "Element-wise difference\n",
      "[[ -6.  -8.]\n",
      " [-10. -12.]]\n"
     ]
    }
   ],
   "source": [
    "print(\"Element-wise difference\")\n",
    "print(x - y)"
   ]
  },
  {
   "cell_type": "code",
   "execution_count": 110,
   "metadata": {},
   "outputs": [
    {
     "name": "stdout",
     "output_type": "stream",
     "text": [
      "Element-wise product\n",
      "[[ -5. -12.]\n",
      " [-21. -32.]]\n"
     ]
    }
   ],
   "source": [
    "print(\"Element-wise product\")\n",
    "print(x * y)"
   ]
  },
  {
   "cell_type": "code",
   "execution_count": 86,
   "metadata": {},
   "outputs": [
    {
     "name": "stdout",
     "output_type": "stream",
     "text": [
      "Element-wise division\n",
      "[[-0.2        -0.33333333]\n",
      " [-0.42857143 -0.5       ]]\n"
     ]
    }
   ],
   "source": [
    "print(\"Element-wise division\")\n",
    "print(x / y)"
   ]
  },
  {
   "cell_type": "code",
   "execution_count": 87,
   "metadata": {},
   "outputs": [
    {
     "name": "stdout",
     "output_type": "stream",
     "text": [
      "Element-wise absoulte value\n",
      "[[1. 2.]\n",
      " [3. 4.]]\n"
     ]
    }
   ],
   "source": [
    "print(\"Element-wise absoulte value\")\n",
    "print(np.abs(x))"
   ]
  },
  {
   "attachments": {},
   "cell_type": "markdown",
   "metadata": {},
   "source": [
    "Moreover, several mathematical operation between arrays are implemented in Numpy."
   ]
  },
  {
   "cell_type": "code",
   "execution_count": 88,
   "metadata": {},
   "outputs": [
    {
     "name": "stdout",
     "output_type": "stream",
     "text": [
      "Elementwise square root\n",
      "[[2.23606798 2.44948974]\n",
      " [2.64575131 2.82842712]]\n"
     ]
    }
   ],
   "source": [
    "print(\"Elementwise square root\")\n",
    "print(np.sqrt(y))"
   ]
  },
  {
   "cell_type": "code",
   "execution_count": 89,
   "metadata": {},
   "outputs": [
    {
     "name": "stdout",
     "output_type": "stream",
     "text": [
      "Dot product\n",
      "[[-19. -22.]\n",
      " [-43. -50.]]\n",
      "[[-19. -22.]\n",
      " [-43. -50.]]\n"
     ]
    }
   ],
   "source": [
    "print(\"Dot product\")\n",
    "print(x.dot(y))\n",
    "print(np.dot(x, y))"
   ]
  },
  {
   "attachments": {},
   "cell_type": "markdown",
   "metadata": {},
   "source": [
    "Numpy provides several reduction functions."
   ]
  },
  {
   "cell_type": "code",
   "execution_count": 90,
   "metadata": {},
   "outputs": [
    {
     "name": "stdout",
     "output_type": "stream",
     "text": [
      "-10.0\n"
     ]
    }
   ],
   "source": [
    "# Compute sum of all elements; prints \"10\"\n",
    "print(np.sum(x))"
   ]
  },
  {
   "cell_type": "code",
   "execution_count": 91,
   "metadata": {},
   "outputs": [
    {
     "name": "stdout",
     "output_type": "stream",
     "text": [
      "[-4. -6.]\n"
     ]
    }
   ],
   "source": [
    "# Compute sum of each column; prints \"[-4 -6]\"\n",
    "print(np.sum(x, axis=0))"
   ]
  },
  {
   "cell_type": "code",
   "execution_count": 92,
   "metadata": {},
   "outputs": [
    {
     "name": "stdout",
     "output_type": "stream",
     "text": [
      "[-3. -7.]\n"
     ]
    }
   ],
   "source": [
    " # Compute sum of each row; prints \"[-3 -7]\"\n",
    "print(np.sum(x, axis=1))"
   ]
  },
  {
   "cell_type": "code",
   "execution_count": 93,
   "metadata": {},
   "outputs": [
    {
     "name": "stdout",
     "output_type": "stream",
     "text": [
      "-2.5\n"
     ]
    }
   ],
   "source": [
    "# Compute the mean of all elements\n",
    "print(np.mean(x))"
   ]
  },
  {
   "cell_type": "code",
   "execution_count": 94,
   "metadata": {},
   "outputs": [
    {
     "name": "stdout",
     "output_type": "stream",
     "text": [
      "[-2. -3.]\n"
     ]
    }
   ],
   "source": [
    "# Compute the mean of axis 0\n",
    "print(np.mean(x, axis= 0))"
   ]
  },
  {
   "cell_type": "code",
   "execution_count": 95,
   "metadata": {},
   "outputs": [
    {
     "name": "stdout",
     "output_type": "stream",
     "text": [
      "[-1.5 -3.5]\n"
     ]
    }
   ],
   "source": [
    "# Compute the mean of axis 1\n",
    "print(np.mean(x, axis=1))"
   ]
  },
  {
   "attachments": {},
   "cell_type": "markdown",
   "metadata": {},
   "source": [
    "Moreover, Numpy provides function to modify the shape of arrays."
   ]
  },
  {
   "cell_type": "code",
   "execution_count": 111,
   "metadata": {},
   "outputs": [
    {
     "name": "stdout",
     "output_type": "stream",
     "text": [
      "[[-1. -2.]\n",
      " [-3. -4.]]\n",
      "Transpose\n",
      "[[-1. -3.]\n",
      " [-2. -4.]]\n"
     ]
    }
   ],
   "source": [
    "print(x)\n",
    "print(\"Transpose\")\n",
    "print(x.T)"
   ]
  },
  {
   "cell_type": "markdown",
   "metadata": {},
   "source": [
    "**Reshape è una delle funzioni più importanti per la computer vision**"
   ]
  },
  {
   "cell_type": "code",
   "execution_count": 112,
   "metadata": {},
   "outputs": [
    {
     "name": "stdout",
     "output_type": "stream",
     "text": [
      "Reshape Shape source:  (2, 2) Shape target:  (1, 4)\n",
      "[[-1. -2.]\n",
      " [-3. -4.]]\n",
      "[[-1. -2. -3. -4.]]\n"
     ]
    }
   ],
   "source": [
    "\n",
    "print(\"Reshape Shape source: \", x.shape, \"Shape target: \", (1,4))\n",
    "print(x)\n",
    "print(x.reshape([1,4]))"
   ]
  },
  {
   "attachments": {},
   "cell_type": "markdown",
   "metadata": {},
   "source": [
    "You can find the full list functions provided by numpy in the [documentation](https://docs.scipy.org/doc/numpy-1.17.0/reference/)."
   ]
  },
  {
   "attachments": {},
   "cell_type": "markdown",
   "metadata": {},
   "source": [
    "### Broadcasting (da sapere per la prossima lezione)"
   ]
  },
  {
   "attachments": {},
   "cell_type": "markdown",
   "metadata": {},
   "source": [
    "**Broadcasting is the mechanism used by numpy to deal with arrays of different shapes during mathematical operations**. This can be extremely useful in a variety of situation and expedites the computation time in matrix operations.\n",
    "\n",
    "Below an example of sum between arrays with different shapes implemented with for cycle and without broadcasting. We will add the vector v to each row of the matrix x: "
   ]
  },
  {
   "cell_type": "code",
   "execution_count": 98,
   "metadata": {},
   "outputs": [
    {
     "name": "stdout",
     "output_type": "stream",
     "text": [
      "x =\n",
      " [[ 1  2  3]\n",
      " [ 4  5  6]\n",
      " [ 7  8  9]\n",
      " [10 11 12]] Shape:  (4, 3)\n",
      "v =\n",
      " [0 0 1] Shape:  (3,)\n"
     ]
    }
   ],
   "source": [
    "x = np.array([[1,2,3], [4,5,6], [7,8,9], [10, 11, 12]])\n",
    "v = np.array([0, 0, 1])\n",
    "\n",
    "print(\"x =\\n\", x, \"Shape: \", x.shape)\n",
    "print(\"v =\\n\", v, \"Shape: \", v.shape)"
   ]
  },
  {
   "attachments": {},
   "cell_type": "markdown",
   "metadata": {},
   "source": [
    "**x + v Cycling rows**"
   ]
  },
  {
   "cell_type": "code",
   "execution_count": 99,
   "metadata": {},
   "outputs": [
    {
     "name": "stdout",
     "output_type": "stream",
     "text": [
      "[[ 1  2  4]\n",
      " [ 4  5  7]\n",
      " [ 7  8 10]\n",
      " [10 11 13]]\n"
     ]
    }
   ],
   "source": [
    "# We will add the vector v to each row of the matrix x,\n",
    "# storing the result in the matrix y\n",
    "y = np.empty_like(x)   # Create an empty matrix with the same shape as x\n",
    "\n",
    "# Add the vector v to each row of the matrix x with an explicit loop\n",
    "for i in range(4):\n",
    "    y[i, :] = x[i, :] + v # notare lo slicing multidimensionale della matrice numpy\n",
    "\n",
    "print(y)"
   ]
  },
  {
   "attachments": {},
   "cell_type": "markdown",
   "metadata": {},
   "source": [
    "**If the matrix _x_ is very large, computing loop cycles in Python is really slow.** \n",
    "\n",
    "Another way to implement the same problem improving the perfomances could be stacking  multiple copies of v.\n",
    "\n",
    "**x+v Stacking**"
   ]
  },
  {
   "cell_type": "code",
   "execution_count": 100,
   "metadata": {},
   "outputs": [
    {
     "name": "stdout",
     "output_type": "stream",
     "text": [
      "x = \n",
      " [[ 1  2  3]\n",
      " [ 4  5  6]\n",
      " [ 7  8  9]\n",
      " [10 11 12]]\n",
      "vv = \n",
      " [[0 0 1]\n",
      " [0 0 1]\n",
      " [0 0 1]\n",
      " [0 0 1]]\n",
      "x + vv =\n",
      " [[ 1  2  4]\n",
      " [ 4  5  7]\n",
      " [ 7  8 10]\n",
      " [10 11 13]]\n"
     ]
    }
   ],
   "source": [
    "print(\"x = \\n\", x)\n",
    "vv = np.tile(v, (4, 1))  # Stack 4 copies of v on top of each other\n",
    "print(\"vv = \\n\", vv)\n",
    "y = x + vv\n",
    "print(\"x + vv =\\n\" , y)"
   ]
  },
  {
   "attachments": {},
   "cell_type": "markdown",
   "metadata": {},
   "source": [
    "This version is computationally cheap but the code is not straightforward to write, and stacking could occupy a lot of memory with larger matrices. \n",
    "\n",
    "Broadcasting allows to do it extremely easy automatically adressing shape compability problems.\n",
    "\n",
    "**x+v Numpy Broadcasting*"
   ]
  },
  {
   "cell_type": "code",
   "execution_count": 101,
   "metadata": {},
   "outputs": [
    {
     "name": "stdout",
     "output_type": "stream",
     "text": [
      "[[ 1  2  4]\n",
      " [ 4  5  7]\n",
      " [ 7  8 10]\n",
      " [10 11 13]]\n"
     ]
    }
   ],
   "source": [
    "# Add v to each row of x using broadcasting\n",
    "y = x + v  \n",
    "print(y)"
   ]
  },
  {
   "attachments": {},
   "cell_type": "markdown",
   "metadata": {},
   "source": [
    "The line `y = x + v` works even though `x` has shape `(4, 3)` and `v` has shape `(3,)` due to broadcasting; this line works as if v actually had shape `(4, 3)`, where each row was a copy of `v`, and the sum was performed elementwise."
   ]
  },
  {
   "attachments": {},
   "cell_type": "markdown",
   "metadata": {},
   "source": [
    "Example: multiply by a scalar:"
   ]
  },
  {
   "cell_type": "code",
   "execution_count": 102,
   "metadata": {},
   "outputs": [
    {
     "name": "stdout",
     "output_type": "stream",
     "text": [
      "[[ 2  4  6]\n",
      " [ 8 10 12]\n",
      " [14 16 18]\n",
      " [20 22 24]]\n"
     ]
    }
   ],
   "source": [
    "# Multiply a matrix by a constant:\n",
    "# x has shape (2, 3). Numpy treats scalars as arrays of shape () these can be broadcast together to shape (2, 3)\n",
    "print(x * 2)"
   ]
  },
  {
   "attachments": {},
   "cell_type": "markdown",
   "metadata": {},
   "source": [
    "**Broadcasting** two arrays together follows these **rules**:\n",
    "\n",
    "1. If the arrays do not have the same rank, prepend the shape of the lower rank array with 1s until both shapes have the same length.\n",
    "2. The two arrays are said to be **compatible in a dimension if they have the same size in the dimension, or if one of the arrays has size 1 in that dimension**.\n",
    "3. The arrays can be broadcast together if they are compatible in all dimensions.\n",
    "4. After broadcasting, each array behaves as if it had shape equal to the elementwise maximum of shapes of the two input arrays.\n",
    "   - ad esempio se abbiamo due array con shape (3,1) e (3,), il secondo diventa (1, 3); l'element-wise maximum è (3,3)\n",
    "   - il vettore colonna viene copiato fino ad avere 3 colonne uguali\n",
    "   - il vettore riga viene copiato fino ad avere 3 righe uguali\n",
    "5. In any dimension where one array had size 1 and the other array had size greater than 1, the first array behaves as if it were copied along that dimension\n",
    "\n",
    "**NB**: prepend è diverso da append\n",
    "\n",
    "Example of **compatible shapes** for broadcasting: "
   ]
  },
  {
   "attachments": {},
   "cell_type": "markdown",
   "metadata": {},
   "source": [
    "A      (3d array):  15 x 3 x 5\n",
    "\n",
    "B      (2d array):       3 x 5\n",
    "\n",
    "**Result** (3d array):  15 x 3 x 5"
   ]
  },
  {
   "attachments": {},
   "cell_type": "markdown",
   "metadata": {},
   "source": [
    "A      (3d array):  15 x 3 x 5\n",
    "\n",
    "B      (3d array):  15 x 1 x 5\n",
    "\n",
    "**Result** (3d array):  15 x 3 x 5"
   ]
  },
  {
   "attachments": {},
   "cell_type": "markdown",
   "metadata": {},
   "source": [
    "A      (2d array):  5 x 4\n",
    "\n",
    "B      (1d array):      1\n",
    "\n",
    "**Result** (2d array):  5 x 4"
   ]
  },
  {
   "attachments": {},
   "cell_type": "markdown",
   "metadata": {},
   "source": [
    "Example of **incompatible shapes** for broadcasting:"
   ]
  },
  {
   "attachments": {},
   "cell_type": "markdown",
   "metadata": {},
   "source": [
    "A      (1d array):  3\n",
    "\n",
    "B      (1d array):  4\n",
    "\n",
    "**Trailing dimensions do not match**"
   ]
  },
  {
   "cell_type": "code",
   "execution_count": 103,
   "metadata": {},
   "outputs": [
    {
     "ename": "ValueError",
     "evalue": "operands could not be broadcast together with shapes (3,) (4,) ",
     "output_type": "error",
     "traceback": [
      "\u001b[31m---------------------------------------------------------------------------\u001b[39m",
      "\u001b[31mValueError\u001b[39m                                Traceback (most recent call last)",
      "\u001b[36mCell\u001b[39m\u001b[36m \u001b[39m\u001b[32mIn[103]\u001b[39m\u001b[32m, line 3\u001b[39m\n\u001b[32m      1\u001b[39m a = np.array([\u001b[32m1\u001b[39m,\u001b[32m2\u001b[39m,\u001b[32m3\u001b[39m])\n\u001b[32m      2\u001b[39m b = np.array([\u001b[32m1\u001b[39m,\u001b[32m2\u001b[39m,\u001b[32m3\u001b[39m,\u001b[32m4\u001b[39m])\n\u001b[32m----> \u001b[39m\u001b[32m3\u001b[39m \u001b[38;5;28mprint\u001b[39m(\u001b[43ma\u001b[49m\u001b[43m+\u001b[49m\u001b[43mb\u001b[49m) \u001b[38;5;66;03m# Throw Exception\u001b[39;00m\n",
      "\u001b[31mValueError\u001b[39m: operands could not be broadcast together with shapes (3,) (4,) "
     ]
    }
   ],
   "source": [
    "a = np.array([1,2,3])\n",
    "b = np.array([1,2,3,4])\n",
    "print(a+b) # Throw Exception"
   ]
  },
  {
   "cell_type": "markdown",
   "metadata": {},
   "source": [
    "The term “broadcasting” in NumPy comes from the analogy of radio/TV broadcasting: a single signal is “broadcast” over a wider area so that many receivers can pick it up.\n",
    "\n",
    "In NumPy, the same idea applies:\n",
    "- You have a smaller array (a “signal”),\n",
    "- NumPy broadcasts it across a larger shape so that operations can be applied elementwise without actually copying the data many times.\n",
    "- Just like a broadcast signal is transmitted everywhere without being duplicated physically for each receiver, a smaller array in NumPy is conceptually “sent out” across a larger shape without being physically replicated in memory.\n",
    "- es. ho un cubo e una matrice di dimensione analoga a una faccia del cubo, se faccio un'operazione aritmetica tra questi due elementi la matrice viene associata ad ogni \"fetta\" del cubo\n"
   ]
  },
  {
   "attachments": {},
   "cell_type": "markdown",
   "metadata": {},
   "source": [
    "## 8. Plotting - Matplotlib"
   ]
  },
  {
   "attachments": {},
   "cell_type": "markdown",
   "metadata": {},
   "source": [
    "Matplotlib is a plotting library. In this section give a brief introduction to the matplotlib.pyplot module.\n",
    "\n",
    "The most important function in matplotlib is plot, which allows you to plot 2D data. Here is a simple example:"
   ]
  },
  {
   "cell_type": "code",
   "execution_count": 104,
   "metadata": {},
   "outputs": [
    {
     "data": {
      "image/png": "[encoded data removed]",
      "text/plain": [
       "<Figure size 640x480 with 1 Axes>"
      ]
     },
     "metadata": {},
     "output_type": "display_data"
    }
   ],
   "source": [
    "import numpy as np\n",
    "import matplotlib.pyplot as plt\n",
    "\n",
    "# Compute the x and y coordinates for points on sine and cosine curves\n",
    "x = np.arange(0, 2 * np.pi, 0.1)\n",
    "y_sin = np.sin(x)\n",
    "y_cos = np.cos(x)\n",
    "\n",
    "# Plot the points using matplotlib\n",
    "plt.plot(x, y_sin)\n",
    "plt.plot(x, y_cos)\n",
    "plt.xlabel('x axis label')\n",
    "plt.ylabel('y axis label')\n",
    "plt.title('Sine and Cosine')\n",
    "plt.legend(['Sine', 'Cosine'])\n",
    "plt.show()"
   ]
  },
  {
   "attachments": {},
   "cell_type": "markdown",
   "metadata": {},
   "source": [
    "In case we want to show two separate plots:"
   ]
  },
  {
   "cell_type": "code",
   "execution_count": 105,
   "metadata": {},
   "outputs": [
    {
     "data": {
      "image/png": "[encoded data removed]",
      "text/plain": [
       "<Figure size 640x480 with 2 Axes>"
      ]
     },
     "metadata": {},
     "output_type": "display_data"
    }
   ],
   "source": [
    "# Set up a subplot grid that has height 2 and width 1,\n",
    "# and set the first such subplot as active.\n",
    "plt.subplot(2, 1, 1)\n",
    "\n",
    "# Make the first plot.\n",
    "plt.plot(x, y_sin)\n",
    "plt.title('Sine')\n",
    "\n",
    "# Set the second subplot as active, and make the second plot.\n",
    "plt.subplot(2, 1, 2)\n",
    "plt.plot(x, y_cos)\n",
    "plt.title('Cosine')\n",
    "\n",
    "# Show the figure.\n",
    "plt.show()"
   ]
  },
  {
   "cell_type": "code",
   "execution_count": null,
   "metadata": {},
   "outputs": [],
   "source": []
  }
 ],
 "metadata": {
  "kernelspec": {
   "display_name": "Python 3 (ipykernel)",
   "language": "python",
   "name": "python3"
  },
  "language_info": {
   "codemirror_mode": {
    "name": "ipython",
    "version": 3
   },
   "file_extension": ".py",
   "mimetype": "text/x-python",
   "name": "python",
   "nbconvert_exporter": "python",
   "pygments_lexer": "ipython3",
   "version": "3.13.7"
  }
 },
 "nbformat": 4,
 "nbformat_minor": 4
}
