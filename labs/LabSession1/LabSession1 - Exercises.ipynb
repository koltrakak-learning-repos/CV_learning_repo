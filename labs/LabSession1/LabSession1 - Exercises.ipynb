{
 "cells": [
  {
   "attachments": {},
   "cell_type": "markdown",
   "metadata": {},
   "source": [
    "# Python from Scratch - Exercises\n",
    "## Computer Vision and Image Processing - Lab Session 1\n",
    "### Prof: Luigi Di Stefano, luigi.distefano@unibo.it\n",
    "### Tutor: Alex Costanzino, alex.costanzino@unibo.it - Iacopo Curti, iacopo.curti2@unibo.it"
   ]
  },
  {
   "attachments": {},
   "cell_type": "markdown",
   "metadata": {},
   "source": [
    "## Exercise 1: Dot Product between Vectors"
   ]
  },
  {
   "attachments": {},
   "cell_type": "markdown",
   "metadata": {},
   "source": [
    "#### Es 1: Write a function which takes two 1-D vectors as input and returns the dot product between them. Implement this function twice, the first time using loops and the second time using _Numpy_'s methods. Then, compute the dot product $a \\cdot b$ with $a=[92, 12, 29]$ and $b=[14, 9, 91]$ (_Expected result : 4035_).\n",
    "\n",
    "#### _Reminder_: the dot product of two vectors $a = [a_1, a_2, …, a_n]$ and $b = [b_1, b_2, …, b_n]$ is defined as:  $a\\cdot{b}=\\sum_{i=1}^n{a_ib_i}$. Morever, if vectors are identified as two matrices the dot product can be seen as a matrix multiplication : $a\\cdot{b}=a^Tb$ where $a^T$ is the transpose of $a$"
   ]
  },
  {
   "cell_type": "code",
   "execution_count": 14,
   "metadata": {},
   "outputs": [
    {
     "name": "stdout",
     "output_type": "stream",
     "text": [
      "loop: 4035; elapsed: 0.00012826919555664062\n",
      "np: 4035; elapsed: 0.00017905235290527344\n"
     ]
    }
   ],
   "source": [
    "### Write here your solution\n",
    "### Import libraries \n",
    "import numpy as np\n",
    "import time\n",
    "\n",
    "### Define here your functions\n",
    "def my_dot_product(vec_a, vec_b):\n",
    "    sum = 0\n",
    "    for i in range(0, len(vec_a)):\n",
    "        sum += vec_a[i]*vec_b[i]\n",
    "        \n",
    "    return sum\n",
    "\n",
    "\n",
    "###Initialize numpy arrays a and b\n",
    "a = np.array([92, 12, 29])\n",
    "b = np.array([14, 9, 91])\n",
    "\n",
    "### Call your functions to calculate a.dot(b)\n",
    "curr = time.time()\n",
    "loop_res = my_dot_product(a, b)\n",
    "elapsed = time.time() - curr\n",
    "print(f\"loop: {loop_res}; elapsed: {elapsed}\")\n",
    "curr = time.time()\n",
    "np_res = a.dot(b)\n",
    "elapsed = time.time() - curr\n",
    "print(f\"np: {np_res}; elapsed: {elapsed}\")"
   ]
  },
  {
   "attachments": {},
   "cell_type": "markdown",
   "metadata": {},
   "source": [
    "## Exercise 2: Norms of a Vector"
   ]
  },
  {
   "attachments": {},
   "cell_type": "markdown",
   "metadata": {},
   "source": [
    "#### Es 2: Write three functions to calculate the norm $L_1, L_2$ and $L_{\\infty}$ of a vector. Test the functions on the vector $a = [22, 8 ,14]$. (_Expected results: $L_1$: 44 $L_2$: 27.28 $L_{\\infty}$: 22_)\n",
    "\n",
    "#### _Reminder_: The norms of a vector $a = [a_1, a_2, …, a_n]$ are defined in the following way: \n",
    "* $L_1:  ||a||_1 = \\sum_{i=1}^n{|a_i|} = |a_1| + |a_2| + ... + |a_n|$ \n",
    "* $L_2:  ||a||_2 = \\sqrt{\\sum_{i=1}^n{a_i^2}} = \\sqrt{a_1^2 + a_2^2 + ... + a_n^2}$\n",
    "* $L_{\\infty}: ||a||_{\\infty} = max_i(|x_i|)$ (i.e. The maximum absolute value of the componenents of the vector)"
   ]
  },
  {
   "cell_type": "code",
   "execution_count": 22,
   "metadata": {},
   "outputs": [
    {
     "name": "stdout",
     "output_type": "stream",
     "text": [
      "44\n",
      "27.27636339397171\n",
      "22\n"
     ]
    }
   ],
   "source": [
    "### Write here your solution\n",
    "### Import libraries \n",
    "import numpy as np\n",
    "import time\n",
    "import math\n",
    "\n",
    "### Define here your functions\n",
    "def l1(a):\n",
    "    sum = 0\n",
    "    for e in a:\n",
    "        sum += abs(e)\n",
    "    return sum\n",
    "\n",
    "def l2(a):\n",
    "    sum = 0\n",
    "    for e in a:\n",
    "        sum += e**2\n",
    "    return math.sqrt(sum)\n",
    "\n",
    "def l_inf(a):\n",
    "    max = 0\n",
    "    for e in a:\n",
    "        if e > max:\n",
    "            max = e\n",
    "    return max\n",
    "\n",
    "###Initialize numpy array a\n",
    "a = np.array([22, 8, 14])\n",
    "\n",
    "### Call your functions to calculate L1 L2 and Linf norms\n",
    "print(l1(a))\n",
    "print(l2(a))\n",
    "print(l_inf(a))"
   ]
  },
  {
   "attachments": {},
   "cell_type": "markdown",
   "metadata": {},
   "source": [
    "## Exercise 3: Mean, Variance and standard deviation of a Vector"
   ]
  },
  {
   "attachments": {},
   "cell_type": "markdown",
   "metadata": {},
   "source": [
    "#### Es 3: Write three functions to calculate the mean, variance and standard deviation of a vector using python loops. Then, implement it using _Numpy_'s method. Test the functions on the vector $a = [22, 8 ,14]$. (*Expected Results: Mean $\\sim$ 14.67, Variance $\\sim$ 32.89 and Standard Deviation $\\sim$ 5.73*)\n",
    "\n",
    "#### _Reminder_:\n",
    "#### * Mean is defined as:  $\\bar{x} = \\frac{1}{n} \\sum_{i=1}^n{x_i} $ \n",
    "#### * Variance is defined as: $\\sigma^2 = \\frac{\\sum_{i=1}^n{(x_i - \\bar{x})^2}}{n}$ \n",
    "#### * Standard deviation is defined as: $\\sqrt{\\sigma^2}$"
   ]
  },
  {
   "cell_type": "code",
   "execution_count": 36,
   "metadata": {},
   "outputs": [
    {
     "name": "stdout",
     "output_type": "stream",
     "text": [
      "14.666666666666666\n",
      "32.88888888888889\n",
      "5.734883511361751\n",
      "14.666666666666666\n",
      "32.88888888888889\n",
      "5.734883511361751\n"
     ]
    }
   ],
   "source": [
    "### Write here your solution\n",
    "### Import libraries\n",
    "import numpy as np\n",
    "import math\n",
    "\n",
    "### Define here your functions\n",
    "def mean(a):\n",
    "    sum = 0\n",
    "    for e in a:\n",
    "        sum += e\n",
    "    return sum/len(a)\n",
    "\n",
    "def variance(a):\n",
    "    mu = mean(a)\n",
    "    sum = 0\n",
    "    for e in a:\n",
    "        sum += (e-mu)**2\n",
    "    return sum/len(a)\n",
    "\n",
    "def std_dev(a):\n",
    "    v = variance(a)\n",
    "    return math.sqrt(v)\n",
    "    \n",
    "###Initialize numpy array a\n",
    "a = np.array([22, 8, 14])\n",
    "\n",
    "### Call your functions to calculate mean, variance and standard deviation\n",
    "print(mean(a))\n",
    "print(variance(a))\n",
    "print(std_dev(a))\n",
    "\n",
    "print(np.mean(a))\n",
    "print(np.var(a))\n",
    "print(np.std(a))"
   ]
  },
  {
   "attachments": {},
   "cell_type": "markdown",
   "metadata": {},
   "source": [
    "## Exercise 4: Matrix Multiplication (not Element-Wise Multiplication !)"
   ]
  },
  {
   "attachments": {},
   "cell_type": "markdown",
   "metadata": {},
   "source": [
    "#### Es 4: Write a function which takes as input two matrices $A$ and $B$ and computes the matrix multiplication $AxB$. Then, implement this function using _Numpy_'s method. Test it on matrix [[10],[11],[12]] and matrix  [[1,2,3],[4,5,6]]. (*Expected Results: C= [[ 68][167]]*)\n",
    "\n",
    "#### _Reminder_: If $A$ is an $n × m$ matrix and $B$ is an $m × p$ matrix, the matrix product C = AxB is defined to be the n × p matrix C such that an element $c$ of $C$ is:\n",
    "$c_{ij} = a_{i1}b_{1j} + ... + a_{im}b{mj} = \\sum_{k=1}^m{a_{ik}{b_{kj}}}$"
   ]
  },
  {
   "cell_type": "code",
   "execution_count": 56,
   "metadata": {},
   "outputs": [
    {
     "name": "stdout",
     "output_type": "stream",
     "text": [
      "[[ 69]\n",
      " [168]]\n",
      "0.00030684471130371094\n",
      "[[ 69]\n",
      " [168]]\n",
      "0.00018215179443359375\n"
     ]
    }
   ],
   "source": [
    "### Write here your solution\n",
    "### Import libraries\n",
    "import numpy as np\n",
    "import time\n",
    "\n",
    "### Define here your functions\n",
    "def matmul(a, b):\n",
    "    res = np.full( (len(a),len(b[0])), 1 )\n",
    "    for i in range(len(a)):\n",
    "        for j in range(len(b[0])):\n",
    "            for k in range(len(a[0])):\n",
    "                res[i][j] += a[i][k]*b[k][j] \n",
    "    return res    \n",
    "    \n",
    "###Initialize matrices A and B\n",
    "a = np.array([[1,2,3],[4,5,6]])\n",
    "b = np.array([[10],[11], [12]])\n",
    "\n",
    "\n",
    "### Call your functions to execute matrix multiplication AxB\n",
    "start = time.time()\n",
    "loop_res = matmul(a, b)\n",
    "elapsed = time.time() - start\n",
    "print(loop_res)\n",
    "print(elapsed)\n",
    "\n",
    "start = time.time()\n",
    "np.matmul(a, b)\n",
    "elapsed = time.time() - start\n",
    "print(loop_res)\n",
    "print(elapsed)\n"
   ]
  },
  {
   "cell_type": "code",
   "execution_count": null,
   "metadata": {},
   "outputs": [],
   "source": []
  }
 ],
 "metadata": {
  "kernelspec": {
   "display_name": "Python 3 (ipykernel)",
   "language": "python",
   "name": "python3"
  },
  "language_info": {
   "codemirror_mode": {
    "name": "ipython",
    "version": 3
   },
   "file_extension": ".py",
   "mimetype": "text/x-python",
   "name": "python",
   "nbconvert_exporter": "python",
   "pygments_lexer": "ipython3",
   "version": "3.13.7"
  }
 },
 "nbformat": 4,
 "nbformat_minor": 4
}
